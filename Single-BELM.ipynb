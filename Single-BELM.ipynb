{
 "cells": [
  {
   "cell_type": "code",
   "execution_count": 1,
   "metadata": {},
   "outputs": [],
   "source": [
    "import pandas as pd\n",
    "import numpy as np\n",
    "import matplotlib.pyplot as plt\n",
    "import seaborn as sns\n",
    "\n",
    "%matplotlib inline"
   ]
  },
  {
   "cell_type": "code",
   "execution_count": 2,
   "metadata": {},
   "outputs": [],
   "source": [
    "from sklearn.linear_model import LinearRegression, BayesianRidge\n",
    "from sklearn.neighbors import KNeighborsRegressor\n",
    "from sklearn.metrics import mean_squared_error\n",
    "from math import sqrt\n",
    "np.random.seed(1)"
   ]
  },
  {
   "cell_type": "code",
   "execution_count": 3,
   "metadata": {},
   "outputs": [],
   "source": [
    "ball = pd.read_csv('Half Ball Prediction Data.csv')\n",
    "convex = pd.read_csv('Convex Prediction Data.csv')\n",
    "freeform = pd.read_csv('Freeform 2 Prediction Data.csv')\n",
    "\n",
    "test_data = pd.read_csv(\"Whole Test Grid.csv\")\n",
    "\n",
    "test_total = []\n",
    "for i in range(1,51):\n",
    "    nameX = \"Scan\" + str(i) + \"X\"\n",
    "    nameY = \"Scan\" + str(i) + \"Y\"\n",
    "    nameZ = \"Scan\" + str(i) + \"Z\"\n",
    "    nameCurv = \"Scan\" + str(i) + \"curvature\"\n",
    "    nameAngle = \"Scan\" + str(i) + \"angle\"\n",
    "    scan_i = test_data[[nameX, nameY, nameZ,nameCurv,nameAngle]]\n",
    "    scan_i.columns = ['X', 'Y', 'Z','curvature','angle']\n",
    "    test_total.append(scan_i)\n",
    "\n",
    "test_d = []\n",
    "for i in [0,1,2,3,4,5,6,7,8,9,10,11,12,13,14,49,48,47,46,45,44,43,42,41,40,39,38,37,36,35]:\n",
    "    test_d.append(test_total[i])\n",
    "    \n",
    "true_variance = pd.read_csv('True Variance.csv')"
   ]
  },
  {
   "cell_type": "code",
   "execution_count": 4,
   "metadata": {},
   "outputs": [],
   "source": [
    "def hyperbolic(x):\n",
    "    return (np.exp(x)-np.exp(-x))/(np.exp(x)+np.exp(-x))\n",
    "\n",
    "def generate_neurons_uniform(X,num_neurons):\n",
    "    k = X.shape[1]\n",
    "    variances = np.std(X,axis=0)\n",
    "    weights = []\n",
    "    for i in range(k):\n",
    "        λ = variances[i]/np.sum(variances)\n",
    "        a = 2.5 * λ / np.max(np.abs(X[:,i]))\n",
    "        weight = np.random.uniform(low=-a,high=a,size=num_neurons)\n",
    "        weights.append(weight)\n",
    "    weights = np.array(weights)\n",
    "    intercept = np.random.uniform(low=-1,high=1,size=num_neurons)\n",
    "    \n",
    "    return weights, intercept\n",
    "\n",
    "def cal_neuron_val(X, weights, intercept):\n",
    "    neuron_val = np.matmul(X,weights) + intercept\n",
    "    neuron_val = hyperbolic(neuron_val)\n",
    "    return neuron_val\n"
   ]
  },
  {
   "cell_type": "code",
   "execution_count": 5,
   "metadata": {},
   "outputs": [],
   "source": [
    "def mbelm(data,coordinate,num_neurons=50):\n",
    "    weights, intercept = generate_neurons_uniform(data[['Mean Curvature','Mean Angle']].values,num_neurons=num_neurons)\n",
    "    neuron_val = cal_neuron_val(data[['Mean Curvature','Mean Angle']].values,weights,intercept)\n",
    "    clf = BayesianRidge()\n",
    "    name = 'Pointwise Variance ' + coordinate\n",
    "    clf.fit(neuron_val, data[name].values)\n",
    "    return {'weight':weights,'intercept':intercept,'model':clf}"
   ]
  },
  {
   "cell_type": "code",
   "execution_count": 6,
   "metadata": {},
   "outputs": [],
   "source": [
    "def mbelm_pred(train,model):\n",
    "    neuron_pred = cal_neuron_val(train[['curvature','angle']].values, model['weight'],model['intercept'])\n",
    "    return model['model'].predict(neuron_pred)"
   ]
  },
  {
   "cell_type": "code",
   "execution_count": 7,
   "metadata": {
    "scrolled": true
   },
   "outputs": [],
   "source": [
    "ball['Pointwise Variance X'] = np.log(ball['Pointwise Variance X'])\n",
    "ball['Pointwise Variance Y'] = np.log(ball['Pointwise Variance Y'])\n",
    "ball['Pointwise Variance Z'] = np.log(ball['Pointwise Variance Z'])"
   ]
  },
  {
   "cell_type": "code",
   "execution_count": 8,
   "metadata": {},
   "outputs": [],
   "source": [
    "convex['Pointwise Variance X'] = np.log(convex['Pointwise Variance X'])\n",
    "convex['Pointwise Variance Y'] = np.log(convex['Pointwise Variance Y'])\n",
    "convex['Pointwise Variance Z'] = np.log(convex['Pointwise Variance Z'])"
   ]
  },
  {
   "cell_type": "code",
   "execution_count": 9,
   "metadata": {},
   "outputs": [],
   "source": [
    "freeform['Pointwise Variance X'] = np.log(freeform['Pointwise Variance X'])\n",
    "freeform['Pointwise Variance Y'] = np.log(freeform['Pointwise Variance Y'])\n",
    "freeform['Pointwise Variance Z'] = np.log(freeform['Pointwise Variance Z'])"
   ]
  },
  {
   "cell_type": "code",
   "execution_count": 10,
   "metadata": {},
   "outputs": [],
   "source": [
    "ball_x = mbelm(ball,'X')\n",
    "ball_y = mbelm(ball,'Y')\n",
    "ball_z = mbelm(ball,'Z')\n",
    "\n",
    "convex_x = mbelm(convex,'X')\n",
    "convex_y = mbelm(convex,'Y')\n",
    "convex_z = mbelm(convex,'Z')\n",
    "\n",
    "freeform_x = mbelm(freeform,'X')\n",
    "freeform_y = mbelm(freeform,'Y')\n",
    "freeform_z = mbelm(freeform,'Z')"
   ]
  },
  {
   "cell_type": "code",
   "execution_count": 11,
   "metadata": {},
   "outputs": [],
   "source": [
    "X_rmse = pd.DataFrame()\n",
    "Y_rmse = pd.DataFrame()\n",
    "Z_rmse = pd.DataFrame()\n",
    "\n",
    "for i in range(30):\n",
    "    ball_x_rmse = sqrt(mean_squared_error(true_variance['X Variance'], np.exp(mbelm_pred(test_d[i],ball_x))))\n",
    "    ball_x_rmse = pd.DataFrame({'RMSE':[ball_x_rmse],'Training history':'Ball'})\n",
    "    \n",
    "    convex_x_rmse = sqrt(mean_squared_error(true_variance['X Variance'], np.exp(mbelm_pred(test_d[i],convex_x))))\n",
    "    convex_x_rmse = pd.DataFrame({'RMSE':[convex_x_rmse],'Training history':'Freeform 1'})\n",
    "    \n",
    "    freeform_x_rmse = sqrt(mean_squared_error(true_variance['X Variance'], np.exp(mbelm_pred(test_d[i],freeform_x))))\n",
    "    freeform_x_rmse = pd.DataFrame({'RMSE':[freeform_x_rmse],'Training history':'Freeform 2'})\n",
    "\n",
    "    \n",
    "    X_rmse = X_rmse.append(ball_x_rmse)\n",
    "    X_rmse = X_rmse.append(convex_x_rmse)\n",
    "    X_rmse = X_rmse.append(freeform_x_rmse)\n",
    "    \n",
    "    ball_y_rmse = sqrt(mean_squared_error(true_variance['Y Variance'], np.exp(mbelm_pred(test_d[i],ball_y))))\n",
    "    ball_y_rmse = pd.DataFrame({'RMSE':[ball_y_rmse],'Training history':'Ball'})\n",
    "    \n",
    "    convex_y_rmse = sqrt(mean_squared_error(true_variance['Y Variance'], np.exp(mbelm_pred(test_d[i],convex_y))))\n",
    "    convex_y_rmse = pd.DataFrame({'RMSE':[convex_y_rmse],'Training history':'Freeform 1'})\n",
    "    \n",
    "    freeform_y_rmse = sqrt(mean_squared_error(true_variance['Y Variance'], np.exp(mbelm_pred(test_d[i],freeform_y))))\n",
    "    freeform_y_rmse = pd.DataFrame({'RMSE':[freeform_y_rmse],'Training history':'Freeform 2'})\n",
    "    \n",
    "\n",
    "    Y_rmse = Y_rmse.append(ball_y_rmse)\n",
    "    Y_rmse = Y_rmse.append(convex_y_rmse)\n",
    "    Y_rmse = Y_rmse.append(freeform_y_rmse)\n",
    "\n",
    "    \n",
    "    ball_z_rmse = sqrt(mean_squared_error(true_variance['Y Variance'], np.exp(mbelm_pred(test_d[i],ball_z))))\n",
    "    ball_z_rmse = pd.DataFrame({'RMSE':[ball_z_rmse],'Training history':'Ball'})\n",
    "    \n",
    "    convex_z_rmse = sqrt(mean_squared_error(true_variance['Y Variance'], np.exp(mbelm_pred(test_d[i],convex_z))))\n",
    "    convex_z_rmse = pd.DataFrame({'RMSE':[convex_z_rmse],'Training history':'Freeform 1'})\n",
    "    \n",
    "    freeform_z_rmse = sqrt(mean_squared_error(true_variance['Y Variance'], np.exp(mbelm_pred(test_d[i],freeform_z))))\n",
    "    freeform_z_rmse = pd.DataFrame({'RMSE':[freeform_z_rmse],'Training history':'Freeform 2'})\n",
    " \n",
    "    \n",
    "    Z_rmse = Z_rmse.append(ball_z_rmse)\n",
    "    Z_rmse = Z_rmse.append(convex_z_rmse)\n",
    "    Z_rmse = Z_rmse.append(freeform_z_rmse)\n"
   ]
  },
  {
   "cell_type": "code",
   "execution_count": 12,
   "metadata": {},
   "outputs": [
    {
     "name": "stdout",
     "output_type": "stream",
     "text": [
      "X-coordinates:\n",
      "0.011954141530370811 | 0.001746997477962877 | 0.0016733444218047589\n",
      "\n",
      "0.0033160817244425383 | 0.00023528084948939754 | 2.6401427068064373e-06\n",
      "\n",
      "\n",
      "Y-coordinates:\n",
      "0.030924908673582566 | 0.0034447441679616927 | 0.0032830673631694773\n",
      "\n",
      "0.001601695762644734 | 8.762279368823588e-06 | 8.553874323779124e-05\n",
      "\n",
      "\n",
      "Z-coordinates:\n",
      "0.5241614208824116 | 0.004805990027338509 | 0.006346560802769513\n",
      "\n",
      "0.08572545121377577 | 0.00024182102259214067 | 0.00041063842561660707\n"
     ]
    }
   ],
   "source": [
    "# X-coordiante RMSE means and standard deviations\n",
    "print('X-coordinates:')\n",
    "print(np.mean(X_rmse.loc[X_rmse['Training history']=='Ball','RMSE']),'|',\n",
    "      np.mean(X_rmse.loc[X_rmse['Training history']=='Freeform 1','RMSE']),'|',\n",
    "      np.mean(X_rmse.loc[X_rmse['Training history']=='Freeform 2','RMSE']))\n",
    "print()\n",
    "print(np.std(X_rmse.loc[X_rmse['Training history']=='Ball','RMSE']),'|',\n",
    "      np.std(X_rmse.loc[X_rmse['Training history']=='Freeform 1','RMSE']),'|',\n",
    "      np.std(X_rmse.loc[X_rmse['Training history']=='Freeform 2','RMSE']))\n",
    "\n",
    "print()\n",
    "print()\n",
    "\n",
    "\n",
    "# Y-coordinate RMSE means and standard deviations\n",
    "print('Y-coordinates:')\n",
    "print(np.mean(Y_rmse.loc[Y_rmse['Training history']=='Ball','RMSE']),'|',\n",
    "      np.mean(Y_rmse.loc[Y_rmse['Training history']=='Freeform 1','RMSE']),'|',\n",
    "      np.mean(Y_rmse.loc[Y_rmse['Training history']=='Freeform 2','RMSE']))\n",
    "print()\n",
    "print(np.std(Y_rmse.loc[Y_rmse['Training history']=='Ball','RMSE']),'|',\n",
    "      np.std(Y_rmse.loc[Y_rmse['Training history']=='Freeform 1','RMSE']),'|',\n",
    "      np.std(Y_rmse.loc[Y_rmse['Training history']=='Freeform 2','RMSE']))\n",
    "\n",
    "print()\n",
    "print()\n",
    "\n",
    "# Z-coordinate RMSE means and standard deviations\n",
    "print('Z-coordinates:')\n",
    "print(np.mean(Z_rmse.loc[Z_rmse['Training history']=='Ball','RMSE']),'|',\n",
    "      np.mean(Z_rmse.loc[Z_rmse['Training history']=='Freeform 1','RMSE']),'|',\n",
    "      np.mean(Z_rmse.loc[Z_rmse['Training history']=='Freeform 2','RMSE']))\n",
    "print()\n",
    "print(np.std(Z_rmse.loc[Z_rmse['Training history']=='Ball','RMSE']),'|',\n",
    "      np.std(Z_rmse.loc[Z_rmse['Training history']=='Freeform 1','RMSE']),'|',\n",
    "      np.std(Z_rmse.loc[Z_rmse['Training history']=='Freeform 2','RMSE']))"
   ]
  }
 ],
 "metadata": {
  "kernelspec": {
   "display_name": "Python 3 (ipykernel)",
   "language": "python",
   "name": "python3"
  },
  "language_info": {
   "codemirror_mode": {
    "name": "ipython",
    "version": 3
   },
   "file_extension": ".py",
   "mimetype": "text/x-python",
   "name": "python",
   "nbconvert_exporter": "python",
   "pygments_lexer": "ipython3",
   "version": "3.9.7"
  },
  "varInspector": {
   "cols": {
    "lenName": 16,
    "lenType": 16,
    "lenVar": 40
   },
   "kernels_config": {
    "python": {
     "delete_cmd_postfix": "",
     "delete_cmd_prefix": "del ",
     "library": "var_list.py",
     "varRefreshCmd": "print(var_dic_list())"
    },
    "r": {
     "delete_cmd_postfix": ") ",
     "delete_cmd_prefix": "rm(",
     "library": "var_list.r",
     "varRefreshCmd": "cat(var_dic_list()) "
    }
   },
   "types_to_exclude": [
    "module",
    "function",
    "builtin_function_or_method",
    "instance",
    "_Feature"
   ],
   "window_display": false
  }
 },
 "nbformat": 4,
 "nbformat_minor": 2
}
