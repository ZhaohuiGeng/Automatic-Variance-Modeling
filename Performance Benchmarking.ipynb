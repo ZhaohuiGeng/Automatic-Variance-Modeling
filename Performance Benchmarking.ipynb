{
 "cells": [
  {
   "cell_type": "code",
   "execution_count": null,
   "metadata": {},
   "outputs": [],
   "source": [
    "import pandas as pd\n",
    "import numpy as np\n",
    "import matplotlib.pyplot as plt\n",
    "import seaborn as sns\n",
    "\n",
    "%matplotlib inline"
   ]
  },
  {
   "cell_type": "code",
   "execution_count": null,
   "metadata": {},
   "outputs": [],
   "source": [
    "from sklearn.linear_model import LinearRegression, BayesianRidge\n",
    "from sklearn.neighbors import KNeighborsRegressor\n",
    "from sklearn.metrics import mean_squared_error\n",
    "\n",
    "from sklearn.neural_network import MLPRegressor\n",
    "from sklearn.gaussian_process import GaussianProcessRegressor\n",
    "from sklearn.ensemble import RandomForestRegressor\n",
    "from sklearn.svm import SVR\n",
    "\n",
    "import time\n",
    "\n",
    "from math import sqrt\n",
    "np.random.seed(1234)"
   ]
  },
  {
   "cell_type": "code",
   "execution_count": null,
   "metadata": {},
   "outputs": [],
   "source": [
    "ball = pd.read_csv('Half Ball Prediction Data.csv')\n",
    "convex = pd.read_csv('Convex Prediction Data.csv')\n",
    "freeform = pd.read_csv('Freeform 2 Prediction Data.csv')\n",
    "\n",
    "test_data = pd.read_csv(\"Whole Test Grid.csv\")\n",
    "\n",
    "test_total = []\n",
    "for i in range(1,51):\n",
    "    nameX = \"Scan\" + str(i) + \"X\"\n",
    "    nameY = \"Scan\" + str(i) + \"Y\"\n",
    "    nameZ = \"Scan\" + str(i) + \"Z\"\n",
    "    nameCurv = \"Scan\" + str(i) + \"curvature\"\n",
    "    nameAngle = \"Scan\" + str(i) + \"angle\"\n",
    "    scan_i = test_data[[nameX, nameY, nameZ,nameCurv,nameAngle]]\n",
    "    scan_i.columns = ['X', 'Y', 'Z','curvature','angle']\n",
    "    test_total.append(scan_i)\n",
    "\n",
    "test_d = test_total[2]\n",
    "    \n",
    "true_variance = pd.read_csv('True Variance.csv')"
   ]
  },
  {
   "cell_type": "code",
   "execution_count": null,
   "metadata": {},
   "outputs": [],
   "source": [
    "def hyperbolic(x):\n",
    "    return (np.exp(x)-np.exp(-x))/(np.exp(x)+np.exp(-x))\n",
    "\n",
    "def generate_neurons_uniform(X,num_neurons):\n",
    "    k = X.shape[1]\n",
    "    variances = np.std(X,axis=0)\n",
    "    weights = []\n",
    "    for i in range(k):\n",
    "        λ = variances[i]/np.sum(variances)\n",
    "        a = 2.5 * λ / np.max(np.abs(X[:,i]))\n",
    "        weight = np.random.uniform(low=-a,high=a,size=num_neurons)\n",
    "        weights.append(weight)\n",
    "    weights = np.array(weights)\n",
    "    intercept = np.random.uniform(low=-1,high=1,size=num_neurons)\n",
    "    \n",
    "    return weights, intercept\n",
    "\n",
    "def cal_neuron_val(X, weights, intercept):\n",
    "    neuron_val = np.matmul(X,weights) + intercept\n",
    "    neuron_val = hyperbolic(neuron_val)\n",
    "    return neuron_val"
   ]
  },
  {
   "cell_type": "code",
   "execution_count": null,
   "metadata": {},
   "outputs": [],
   "source": [
    "# BELM\n",
    "def mbelm(data,coordinate,num_neurons=50):\n",
    "    weights, intercept = generate_neurons_uniform(data[['Mean Curvature','Mean Angle']].values,num_neurons=num_neurons)\n",
    "    neuron_val = cal_neuron_val(data[['Mean Curvature','Mean Angle']].values,weights,intercept)\n",
    "    clf = BayesianRidge()\n",
    "    name = 'Pointwise Variance ' + coordinate\n",
    "    clf.fit(neuron_val, data[name].values)\n",
    "    return {'weight':weights,'intercept':intercept,'model':clf}\n",
    "\n",
    "def mbelm_pred(train,model):\n",
    "    neuron_pred = cal_neuron_val(train[['curvature','angle']].values, model['weight'],model['intercept'])\n",
    "    return model['model'].predict(neuron_pred)"
   ]
  },
  {
   "cell_type": "code",
   "execution_count": null,
   "metadata": {},
   "outputs": [],
   "source": [
    "# E-BELM\n",
    "def mbelm_ensemble(data,coordinate,num_neurons=3, ensemble_num = 50):\n",
    "    ensemble_weights = []\n",
    "    ensemble_intercept = []\n",
    "    ensemble_model = []\n",
    "    \n",
    "    for i in range(ensemble_num):\n",
    "    \n",
    "        weights, intercept = generate_neurons_uniform(data[['Mean Curvature','Mean Angle']].values,\n",
    "                                                      num_neurons=num_neurons)\n",
    "        neuron_val = cal_neuron_val(data[['Mean Curvature','Mean Angle']].values,weights,intercept)\n",
    "\n",
    "        # Fit the output layer\n",
    "        clf = BayesianRidge()\n",
    "        name = 'Pointwise Variance ' + coordinate\n",
    "        clf.fit(neuron_val, data[name].values)\n",
    "        \n",
    "        ensemble_weights.append(weights)\n",
    "        ensemble_intercept.append(intercept)\n",
    "        ensemble_model.append(clf)\n",
    "    \n",
    "    return {'weight':ensemble_weights,'intercept':ensemble_intercept, \n",
    "            'model':ensemble_model, \"num\": ensemble_num}\n",
    "\n",
    "def mbelm_pred_ensemble(train,model):\n",
    "    prediction = 0\n",
    "    for i in range(model['num']):\n",
    "        neuron_pred = cal_neuron_val(train[['curvature','angle']].values, \n",
    "                                     model['weight'][i],\n",
    "                                     model['intercept'][i])\n",
    "        prediction += model['model'][i].predict(neuron_pred)\n",
    "        \n",
    "    prediction = prediction/model['num']\n",
    "    \n",
    "    return prediction"
   ]
  },
  {
   "cell_type": "code",
   "execution_count": null,
   "metadata": {},
   "outputs": [],
   "source": [
    "# Res-BELM\n",
    "def residual_mbelm(data,coordinate,num_neurons=40, num_residual_nets=5):\n",
    "    nets_weights = []\n",
    "    nets_intercept = []\n",
    "    nets_model = []\n",
    "    \n",
    "    name = 'Pointwise Variance ' + coordinate\n",
    "    \n",
    "    residual = data[name].values\n",
    "    \n",
    "    for i in range(num_residual_nets):\n",
    "    \n",
    "        weights, intercept = generate_neurons_uniform(data[['Mean Curvature','Mean Angle']].values,\n",
    "                                                      num_neurons=num_neurons)\n",
    "        neuron_val = cal_neuron_val(data[['Mean Curvature','Mean Angle']].values,weights,intercept)\n",
    "\n",
    "        # Fit the output layer\n",
    "        clf = BayesianRidge()\n",
    "        \n",
    "        clf.fit(neuron_val, residual)\n",
    "        \n",
    "        residual = residual - clf.predict(neuron_val)\n",
    "        \n",
    "        nets_weights.append(weights)\n",
    "        nets_intercept.append(intercept)\n",
    "        nets_model.append(clf)\n",
    "    \n",
    "    return {'weight':nets_weights,'intercept': nets_intercept, \n",
    "            'model':nets_model, \"num\": num_residual_nets}\n",
    "\n",
    "def residual_mbelm_pred(train,model):\n",
    "    prediction = 0\n",
    "    for i in range(model['num']):\n",
    "        neuron_pred = cal_neuron_val(train[['curvature','angle']].values, \n",
    "                                     model['weight'][i],\n",
    "                                     model['intercept'][i])\n",
    "        \n",
    "        prediction += model['model'][i].predict(neuron_pred)\n",
    "        \n",
    "    prediction = prediction\n",
    "    \n",
    "    return prediction"
   ]
  },
  {
   "cell_type": "code",
   "execution_count": null,
   "metadata": {},
   "outputs": [],
   "source": [
    "# Training sets\n",
    "ball = pd.read_csv('Half Ball Prediction Data.csv')\n",
    "convex = pd.read_csv('Convex Prediction Data.csv')\n",
    "freeform = pd.read_csv('Freeform 2 Prediction Data.csv')\n",
    "\n",
    "ball['Pointwise Variance X'] = np.log(ball['Pointwise Variance X'])\n",
    "ball['Pointwise Variance Y'] = np.log(ball['Pointwise Variance Y'])\n",
    "ball['Pointwise Variance Z'] = np.log(ball['Pointwise Variance Z'])\n",
    "\n",
    "convex['Pointwise Variance X'] = np.log(convex['Pointwise Variance X'])\n",
    "convex['Pointwise Variance Y'] = np.log(convex['Pointwise Variance Y'])\n",
    "convex['Pointwise Variance Z'] = np.log(convex['Pointwise Variance Z'])\n",
    "\n",
    "freeform['Pointwise Variance X'] = np.log(freeform['Pointwise Variance X'])\n",
    "freeform['Pointwise Variance Y'] = np.log(freeform['Pointwise Variance Y'])\n",
    "freeform['Pointwise Variance Z'] = np.log(freeform['Pointwise Variance Z'])"
   ]
  },
  {
   "cell_type": "code",
   "execution_count": null,
   "metadata": {},
   "outputs": [],
   "source": [
    "# ball_downsample = ball.sample(n=10000)\n",
    "# ball_downsample = convex.sample(n=10000)\n",
    "ball_downsample = freeform.sample(n=10000)"
   ]
  },
  {
   "cell_type": "code",
   "execution_count": null,
   "metadata": {},
   "outputs": [],
   "source": [
    "ball_feature = ball_downsample[['Mean Curvature','Mean Angle']].values\n",
    "ball_target_x = ball_downsample['Pointwise Variance X'].values\n",
    "ball_target_y = ball_downsample['Pointwise Variance Y'].values\n",
    "ball_target_z = ball_downsample['Pointwise Variance Z'].values"
   ]
  },
  {
   "cell_type": "code",
   "execution_count": null,
   "metadata": {},
   "outputs": [],
   "source": [
    "test_feature = test_d[['curvature', 'angle']].values"
   ]
  },
  {
   "cell_type": "code",
   "execution_count": null,
   "metadata": {},
   "outputs": [],
   "source": [
    "# Neural Networks\n",
    "\n",
    "## x-coordinate"
   ]
  },
  {
   "cell_type": "code",
   "execution_count": null,
   "metadata": {},
   "outputs": [],
   "source": [
    "%timeit regr = MLPRegressor(random_state=1234, max_iter=1000).fit(ball_feature, ball_target_x)"
   ]
  },
  {
   "cell_type": "code",
   "execution_count": null,
   "metadata": {},
   "outputs": [],
   "source": [
    "%timeit regr.predict(test_feature)"
   ]
  },
  {
   "cell_type": "code",
   "execution_count": null,
   "metadata": {},
   "outputs": [],
   "source": [
    "print(sqrt(mean_squared_error(true_variance['X Variance'], np.exp(regr.predict(test_feature)))))"
   ]
  },
  {
   "cell_type": "code",
   "execution_count": null,
   "metadata": {},
   "outputs": [],
   "source": [
    "## y-coordinate"
   ]
  },
  {
   "cell_type": "code",
   "execution_count": null,
   "metadata": {},
   "outputs": [],
   "source": [
    "%timeit regr = MLPRegressor(random_state=1234, max_iter=1000).fit(ball_feature, ball_target_y)"
   ]
  },
  {
   "cell_type": "code",
   "execution_count": null,
   "metadata": {},
   "outputs": [],
   "source": [
    "%timeit regr.predict(test_feature)"
   ]
  },
  {
   "cell_type": "code",
   "execution_count": null,
   "metadata": {},
   "outputs": [],
   "source": [
    "print(sqrt(mean_squared_error(true_variance['Y Variance'], np.exp(regr.predict(test_feature)))))"
   ]
  },
  {
   "cell_type": "code",
   "execution_count": null,
   "metadata": {},
   "outputs": [],
   "source": [
    "## z-coordinate"
   ]
  },
  {
   "cell_type": "code",
   "execution_count": null,
   "metadata": {},
   "outputs": [],
   "source": [
    "%timeit regr = MLPRegressor(random_state=1234, max_iter=1000).fit(ball_feature, ball_target_z)"
   ]
  },
  {
   "cell_type": "code",
   "execution_count": null,
   "metadata": {},
   "outputs": [],
   "source": [
    "regr = MLPRegressor(random_state=1234, max_iter=1000).fit(ball_feature, ball_target_z)"
   ]
  },
  {
   "cell_type": "code",
   "execution_count": null,
   "metadata": {},
   "outputs": [],
   "source": [
    "%timeit regr.predict(test_feature)"
   ]
  },
  {
   "cell_type": "code",
   "execution_count": null,
   "metadata": {},
   "outputs": [],
   "source": [
    "print(sqrt(mean_squared_error(true_variance['Z Variance'], np.exp(regr.predict(test_feature)))))"
   ]
  },
  {
   "cell_type": "code",
   "execution_count": null,
   "metadata": {},
   "outputs": [],
   "source": []
  },
  {
   "cell_type": "code",
   "execution_count": null,
   "metadata": {},
   "outputs": [],
   "source": [
    "# Gaussian Process\n",
    "\n",
    "## x-coordinate"
   ]
  },
  {
   "cell_type": "code",
   "execution_count": null,
   "metadata": {},
   "outputs": [],
   "source": [
    "%timeit gpr = GaussianProcessRegressor(kernel=RBF, random_state=0).fit(ball_feature, ball_target_x)"
   ]
  },
  {
   "cell_type": "code",
   "execution_count": null,
   "metadata": {},
   "outputs": [],
   "source": [
    "gpr = GaussianProcessRegressor(random_state=1234).fit(ball_feature, ball_target_x)"
   ]
  },
  {
   "cell_type": "code",
   "execution_count": null,
   "metadata": {},
   "outputs": [],
   "source": [
    "%timeit gpr.predict(test_feature)"
   ]
  },
  {
   "cell_type": "code",
   "execution_count": null,
   "metadata": {},
   "outputs": [],
   "source": [
    "print(sqrt(mean_squared_error(true_variance['X Variance'], np.exp(gpr.predict(test_feature)))))"
   ]
  },
  {
   "cell_type": "code",
   "execution_count": null,
   "metadata": {},
   "outputs": [],
   "source": [
    "## y-coordinate"
   ]
  },
  {
   "cell_type": "code",
   "execution_count": null,
   "metadata": {},
   "outputs": [],
   "source": [
    "%timeit gpr = GaussianProcessRegressor(random_state=1234).fit(ball_feature, ball_target_y)"
   ]
  },
  {
   "cell_type": "code",
   "execution_count": null,
   "metadata": {},
   "outputs": [],
   "source": [
    "gpr = GaussianProcessRegressor(random_state=1234).fit(ball_feature, ball_target_y)"
   ]
  },
  {
   "cell_type": "code",
   "execution_count": null,
   "metadata": {},
   "outputs": [],
   "source": [
    "%timeit gpr.predict(test_feature)"
   ]
  },
  {
   "cell_type": "code",
   "execution_count": null,
   "metadata": {},
   "outputs": [],
   "source": [
    "print(sqrt(mean_squared_error(true_variance['Y Variance'], np.exp(gpr.predict(test_feature)))))"
   ]
  },
  {
   "cell_type": "code",
   "execution_count": null,
   "metadata": {},
   "outputs": [],
   "source": [
    "## z-coordinate"
   ]
  },
  {
   "cell_type": "code",
   "execution_count": null,
   "metadata": {},
   "outputs": [],
   "source": [
    "%timeit gpr = GaussianProcessRegressor(random_state=1234).fit(ball_feature, ball_target_z)"
   ]
  },
  {
   "cell_type": "code",
   "execution_count": null,
   "metadata": {},
   "outputs": [],
   "source": [
    "gpr = GaussianProcessRegressor(random_state=1234).fit(ball_feature, ball_target_y)"
   ]
  },
  {
   "cell_type": "code",
   "execution_count": null,
   "metadata": {},
   "outputs": [],
   "source": [
    "%timeit gpr.predict(test_feature)"
   ]
  },
  {
   "cell_type": "code",
   "execution_count": null,
   "metadata": {},
   "outputs": [],
   "source": [
    "print(sqrt(mean_squared_error(true_variance['Z Variance'], np.exp(gpr.predict(test_feature)))))"
   ]
  },
  {
   "cell_type": "code",
   "execution_count": null,
   "metadata": {},
   "outputs": [],
   "source": []
  },
  {
   "cell_type": "code",
   "execution_count": null,
   "metadata": {},
   "outputs": [],
   "source": [
    "# Random Forests\n",
    "\n",
    "## x-coordinate"
   ]
  },
  {
   "cell_type": "code",
   "execution_count": null,
   "metadata": {},
   "outputs": [],
   "source": [
    "%timeit clf = RandomForestRegressor(random_state=1234).fit(ball_feature, ball_target_x)"
   ]
  },
  {
   "cell_type": "code",
   "execution_count": null,
   "metadata": {},
   "outputs": [],
   "source": [
    "clf = RandomForestRegressor(random_state=1234).fit(ball_feature, ball_target_x)"
   ]
  },
  {
   "cell_type": "code",
   "execution_count": null,
   "metadata": {},
   "outputs": [],
   "source": [
    "%timeit clf.predict(test_feature)"
   ]
  },
  {
   "cell_type": "code",
   "execution_count": null,
   "metadata": {},
   "outputs": [],
   "source": [
    "print(sqrt(mean_squared_error(true_variance['X Variance'], np.exp(clf.predict(test_feature)))))"
   ]
  },
  {
   "cell_type": "code",
   "execution_count": null,
   "metadata": {},
   "outputs": [],
   "source": [
    "## y-coordiante"
   ]
  },
  {
   "cell_type": "code",
   "execution_count": null,
   "metadata": {},
   "outputs": [],
   "source": [
    "%timeit clf = RandomForestRegressor(random_state=1234).fit(ball_feature, ball_target_y)"
   ]
  },
  {
   "cell_type": "code",
   "execution_count": null,
   "metadata": {},
   "outputs": [],
   "source": [
    "clf = RandomForestRegressor(random_state=1234).fit(ball_feature, ball_target_y)"
   ]
  },
  {
   "cell_type": "code",
   "execution_count": null,
   "metadata": {},
   "outputs": [],
   "source": [
    "%timeit clf.predict(test_feature)"
   ]
  },
  {
   "cell_type": "code",
   "execution_count": null,
   "metadata": {},
   "outputs": [],
   "source": [
    "print(sqrt(mean_squared_error(true_variance['Y Variance'], np.exp(clf.predict(test_feature)))))"
   ]
  },
  {
   "cell_type": "code",
   "execution_count": null,
   "metadata": {},
   "outputs": [],
   "source": [
    "## z-coordiante"
   ]
  },
  {
   "cell_type": "code",
   "execution_count": null,
   "metadata": {},
   "outputs": [],
   "source": [
    "%timeit clf = RandomForestRegressor(random_state=1234).fit(ball_feature, ball_target_z)"
   ]
  },
  {
   "cell_type": "code",
   "execution_count": null,
   "metadata": {},
   "outputs": [],
   "source": [
    "clf = RandomForestRegressor(random_state=1234).fit(ball_feature, ball_target_z)"
   ]
  },
  {
   "cell_type": "code",
   "execution_count": null,
   "metadata": {},
   "outputs": [],
   "source": [
    "%timeit clf.predict(test_feature)"
   ]
  },
  {
   "cell_type": "code",
   "execution_count": null,
   "metadata": {},
   "outputs": [],
   "source": [
    "print(sqrt(mean_squared_error(true_variance['Z Variance'], np.exp(clf.predict(test_feature)))))"
   ]
  },
  {
   "cell_type": "code",
   "execution_count": null,
   "metadata": {},
   "outputs": [],
   "source": []
  },
  {
   "cell_type": "code",
   "execution_count": null,
   "metadata": {},
   "outputs": [],
   "source": [
    "# Support Vector Machine\n",
    "\n",
    "## x-coordinate"
   ]
  },
  {
   "cell_type": "code",
   "execution_count": null,
   "metadata": {},
   "outputs": [],
   "source": [
    "%timeit regr = SVR().fit(ball_feature, ball_target_x)"
   ]
  },
  {
   "cell_type": "code",
   "execution_count": null,
   "metadata": {},
   "outputs": [],
   "source": [
    "regr = SVR().fit(ball_feature, ball_target_x)"
   ]
  },
  {
   "cell_type": "code",
   "execution_count": null,
   "metadata": {},
   "outputs": [],
   "source": [
    "%timeit regr.predict(test_feature)"
   ]
  },
  {
   "cell_type": "code",
   "execution_count": null,
   "metadata": {},
   "outputs": [],
   "source": [
    "print(sqrt(mean_squared_error(true_variance['X Variance'], np.exp(regr.predict(test_feature)))))"
   ]
  },
  {
   "cell_type": "code",
   "execution_count": null,
   "metadata": {},
   "outputs": [],
   "source": [
    "## y-coordiante"
   ]
  },
  {
   "cell_type": "code",
   "execution_count": null,
   "metadata": {},
   "outputs": [],
   "source": [
    "%timeit regr = SVR().fit(ball_feature, ball_target_y)"
   ]
  },
  {
   "cell_type": "code",
   "execution_count": null,
   "metadata": {},
   "outputs": [],
   "source": [
    "regr = SVR().fit(ball_feature, ball_target_y)"
   ]
  },
  {
   "cell_type": "code",
   "execution_count": null,
   "metadata": {},
   "outputs": [],
   "source": [
    "%timeit regr.predict(test_feature)"
   ]
  },
  {
   "cell_type": "code",
   "execution_count": null,
   "metadata": {},
   "outputs": [],
   "source": [
    "print(sqrt(mean_squared_error(true_variance['Y Variance'], np.exp(regr.predict(test_feature)))))"
   ]
  },
  {
   "cell_type": "code",
   "execution_count": null,
   "metadata": {},
   "outputs": [],
   "source": [
    "## z-coordinate"
   ]
  },
  {
   "cell_type": "code",
   "execution_count": null,
   "metadata": {},
   "outputs": [],
   "source": [
    "%timeit regr = SVR().fit(ball_feature, ball_target_z)"
   ]
  },
  {
   "cell_type": "code",
   "execution_count": null,
   "metadata": {},
   "outputs": [],
   "source": [
    "regr = SVR().fit(ball_feature, ball_target_z)"
   ]
  },
  {
   "cell_type": "code",
   "execution_count": null,
   "metadata": {},
   "outputs": [],
   "source": [
    "%timeit regr.predict(test_feature)"
   ]
  },
  {
   "cell_type": "code",
   "execution_count": null,
   "metadata": {},
   "outputs": [],
   "source": [
    "print(sqrt(mean_squared_error(true_variance['Z Variance'], np.exp(regr.predict(test_feature)))))"
   ]
  },
  {
   "cell_type": "code",
   "execution_count": null,
   "metadata": {},
   "outputs": [],
   "source": []
  },
  {
   "cell_type": "code",
   "execution_count": null,
   "metadata": {},
   "outputs": [],
   "source": [
    "# BELM\n",
    "\n",
    "## x-coordiante"
   ]
  },
  {
   "cell_type": "code",
   "execution_count": null,
   "metadata": {},
   "outputs": [],
   "source": [
    "%timeit belm_x = mbelm(ball_downsample,'X')"
   ]
  },
  {
   "cell_type": "code",
   "execution_count": null,
   "metadata": {},
   "outputs": [],
   "source": [
    "belm_x = mbelm(ball_downsample,'X')"
   ]
  },
  {
   "cell_type": "code",
   "execution_count": null,
   "metadata": {},
   "outputs": [],
   "source": [
    "%timeit mbelm_pred(test_d, belm_x)"
   ]
  },
  {
   "cell_type": "code",
   "execution_count": null,
   "metadata": {},
   "outputs": [],
   "source": [
    "print(sqrt(mean_squared_error(true_variance['X Variance'], np.exp(mbelm_pred(test_d,belm_x)))))"
   ]
  },
  {
   "cell_type": "code",
   "execution_count": null,
   "metadata": {},
   "outputs": [],
   "source": [
    "## y-coordiante"
   ]
  },
  {
   "cell_type": "code",
   "execution_count": null,
   "metadata": {},
   "outputs": [],
   "source": [
    "%timeit belm_y = mbelm(ball_downsample,'Y')"
   ]
  },
  {
   "cell_type": "code",
   "execution_count": null,
   "metadata": {},
   "outputs": [],
   "source": [
    "belm_y = mbelm(ball_downsample,'Y')"
   ]
  },
  {
   "cell_type": "code",
   "execution_count": null,
   "metadata": {},
   "outputs": [],
   "source": [
    "%timeit mbelm_pred(test_d, belm_y)"
   ]
  },
  {
   "cell_type": "code",
   "execution_count": null,
   "metadata": {},
   "outputs": [],
   "source": [
    "print(sqrt(mean_squared_error(true_variance['Y Variance'], np.exp(mbelm_pred(test_d,belm_y)))))"
   ]
  },
  {
   "cell_type": "code",
   "execution_count": null,
   "metadata": {},
   "outputs": [],
   "source": [
    "## z-coordinate"
   ]
  },
  {
   "cell_type": "code",
   "execution_count": null,
   "metadata": {},
   "outputs": [],
   "source": [
    "%timeit belm_z = mbelm(ball_downsample,'Z')"
   ]
  },
  {
   "cell_type": "code",
   "execution_count": null,
   "metadata": {},
   "outputs": [],
   "source": [
    "belm_z = mbelm(ball_downsample,'Z')"
   ]
  },
  {
   "cell_type": "code",
   "execution_count": null,
   "metadata": {},
   "outputs": [],
   "source": [
    "%timeit mbelm_pred(test_d, belm_z)"
   ]
  },
  {
   "cell_type": "code",
   "execution_count": null,
   "metadata": {},
   "outputs": [],
   "source": [
    "print(sqrt(mean_squared_error(true_variance['Z Variance'], np.exp(mbelm_pred(test_d,belm_z)))))"
   ]
  },
  {
   "cell_type": "code",
   "execution_count": null,
   "metadata": {},
   "outputs": [],
   "source": []
  },
  {
   "cell_type": "code",
   "execution_count": null,
   "metadata": {},
   "outputs": [],
   "source": [
    "# E-BELM\n",
    "\n",
    "## x-coordinate"
   ]
  },
  {
   "cell_type": "code",
   "execution_count": null,
   "metadata": {},
   "outputs": [],
   "source": [
    "%timeit e_belm_x = mbelm_ensemble(ball_downsample,'X')"
   ]
  },
  {
   "cell_type": "code",
   "execution_count": null,
   "metadata": {},
   "outputs": [],
   "source": [
    "e_belm_x = mbelm_ensemble(ball_downsample,'X')"
   ]
  },
  {
   "cell_type": "code",
   "execution_count": null,
   "metadata": {},
   "outputs": [],
   "source": [
    "%timeit mbelm_pred_ensemble(test_d, e_belm_x)"
   ]
  },
  {
   "cell_type": "code",
   "execution_count": null,
   "metadata": {},
   "outputs": [],
   "source": [
    "print(sqrt(mean_squared_error(true_variance['X Variance'], np.exp(mbelm_pred_ensemble(test_d, e_belm_x)))))"
   ]
  },
  {
   "cell_type": "code",
   "execution_count": null,
   "metadata": {},
   "outputs": [],
   "source": [
    "## y-coordiante"
   ]
  },
  {
   "cell_type": "code",
   "execution_count": null,
   "metadata": {},
   "outputs": [],
   "source": [
    "%timeit e_belm_y = mbelm_ensemble(ball_downsample,'Y')"
   ]
  },
  {
   "cell_type": "code",
   "execution_count": null,
   "metadata": {},
   "outputs": [],
   "source": [
    "e_belm_y = mbelm_ensemble(ball_downsample,'Y')"
   ]
  },
  {
   "cell_type": "code",
   "execution_count": null,
   "metadata": {},
   "outputs": [],
   "source": [
    "%timeit mbelm_pred_ensemble(test_d, e_belm_y)"
   ]
  },
  {
   "cell_type": "code",
   "execution_count": null,
   "metadata": {},
   "outputs": [],
   "source": [
    "print(sqrt(mean_squared_error(true_variance['Y Variance'], np.exp(mbelm_pred_ensemble(test_d, e_belm_y)))))"
   ]
  },
  {
   "cell_type": "code",
   "execution_count": null,
   "metadata": {},
   "outputs": [],
   "source": [
    "## z-coordinate"
   ]
  },
  {
   "cell_type": "code",
   "execution_count": null,
   "metadata": {},
   "outputs": [],
   "source": [
    "%timeit e_belm_z = mbelm_ensemble(ball_downsample,'Z')"
   ]
  },
  {
   "cell_type": "code",
   "execution_count": null,
   "metadata": {},
   "outputs": [],
   "source": [
    "e_belm_z = mbelm_ensemble(ball_downsample,'Z')"
   ]
  },
  {
   "cell_type": "code",
   "execution_count": null,
   "metadata": {},
   "outputs": [],
   "source": [
    "%timeit mbelm_pred_ensemble(test_d, e_belm_z)"
   ]
  },
  {
   "cell_type": "code",
   "execution_count": null,
   "metadata": {},
   "outputs": [],
   "source": [
    "print(sqrt(mean_squared_error(true_variance['Z Variance'], np.exp(mbelm_pred_ensemble(test_d, e_belm_z)))))"
   ]
  },
  {
   "cell_type": "code",
   "execution_count": null,
   "metadata": {},
   "outputs": [],
   "source": []
  },
  {
   "cell_type": "code",
   "execution_count": null,
   "metadata": {},
   "outputs": [],
   "source": [
    "# Res-BELM\n",
    "\n",
    "## x-coordinate"
   ]
  },
  {
   "cell_type": "code",
   "execution_count": null,
   "metadata": {},
   "outputs": [],
   "source": [
    "%timeit res_belm_x = residual_mbelm(ball_downsample,'X')"
   ]
  },
  {
   "cell_type": "code",
   "execution_count": null,
   "metadata": {},
   "outputs": [],
   "source": [
    "res_belm_x = residual_mbelm(ball_downsample,'X')"
   ]
  },
  {
   "cell_type": "code",
   "execution_count": null,
   "metadata": {},
   "outputs": [],
   "source": [
    "%timeit residual_mbelm_pred(test_d, res_belm_x)"
   ]
  },
  {
   "cell_type": "code",
   "execution_count": null,
   "metadata": {},
   "outputs": [],
   "source": [
    "print(sqrt(mean_squared_error(true_variance['X Variance'], np.exp(residual_mbelm_pred(test_d, res_belm_x)))))"
   ]
  },
  {
   "cell_type": "code",
   "execution_count": null,
   "metadata": {},
   "outputs": [],
   "source": [
    "## y-coordinate"
   ]
  },
  {
   "cell_type": "code",
   "execution_count": null,
   "metadata": {},
   "outputs": [],
   "source": [
    "%timeit res_belm_y = residual_mbelm(ball_downsample,'Y')"
   ]
  },
  {
   "cell_type": "code",
   "execution_count": null,
   "metadata": {},
   "outputs": [],
   "source": [
    "res_belm_y = residual_mbelm(ball_downsample,'Y')"
   ]
  },
  {
   "cell_type": "code",
   "execution_count": null,
   "metadata": {},
   "outputs": [],
   "source": [
    "%timeit residual_mbelm_pred(test_d, res_belm_y)"
   ]
  },
  {
   "cell_type": "code",
   "execution_count": null,
   "metadata": {},
   "outputs": [],
   "source": [
    "print(sqrt(mean_squared_error(true_variance['Y Variance'], np.exp(residual_mbelm_pred(test_d, res_belm_y)))))"
   ]
  },
  {
   "cell_type": "code",
   "execution_count": null,
   "metadata": {},
   "outputs": [],
   "source": [
    "## z-coordinate"
   ]
  },
  {
   "cell_type": "code",
   "execution_count": null,
   "metadata": {},
   "outputs": [],
   "source": [
    "%timeit res_belm_z = residual_mbelm(ball_downsample,'Z')"
   ]
  },
  {
   "cell_type": "code",
   "execution_count": null,
   "metadata": {},
   "outputs": [],
   "source": [
    "res_belm_z = residual_mbelm(ball_downsample,'Z')"
   ]
  },
  {
   "cell_type": "code",
   "execution_count": null,
   "metadata": {},
   "outputs": [],
   "source": [
    "%timeit residual_mbelm_pred(test_d, res_belm_z)"
   ]
  },
  {
   "cell_type": "code",
   "execution_count": null,
   "metadata": {},
   "outputs": [],
   "source": [
    "print(sqrt(mean_squared_error(true_variance['Z Variance'], np.exp(residual_mbelm_pred(test_d, res_belm_z)))))"
   ]
  },
  {
   "cell_type": "code",
   "execution_count": null,
   "metadata": {},
   "outputs": [],
   "source": []
  }
 ],
 "metadata": {
  "kernelspec": {
   "display_name": "Python 3 (ipykernel)",
   "language": "python",
   "name": "python3"
  },
  "language_info": {
   "codemirror_mode": {
    "name": "ipython",
    "version": 3
   },
   "file_extension": ".py",
   "mimetype": "text/x-python",
   "name": "python",
   "nbconvert_exporter": "python",
   "pygments_lexer": "ipython3",
   "version": "3.9.7"
  }
 },
 "nbformat": 4,
 "nbformat_minor": 2
}
